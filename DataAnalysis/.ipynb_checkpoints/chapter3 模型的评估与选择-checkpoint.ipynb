{
 "cells": [
  {
   "cell_type": "markdown",
   "metadata": {},
   "source": [
    "# 评估\n",
    "\n",
    "## 3.1 经验误差与过拟合\n",
    "通常我们把分类错误的样本数站样本总数的比例称为“错误率”（error rate），即如果在m个样本中由a个样本分类错误，则错误率$E=a/m$;相应的$1-a/m$称为“精度”(accuracy)，即“精度=1-错误率”。更一般的我们把学习器的实际预测输出与样本的真实输出之间差异称为“误差”(error),学习器在训练集上的误差称为“训练误差”(training error),或经验误差(empirical error),在新样本上的误差称为\"泛化误差\"(generalization error).显然我们希望得到泛化误差小的学习器，然而我们事先并不知道新样本是什么样，实际中能做的是努力使得经验误差最小化。在很多情况下，我们可以学得一个经验误差狠下、在训练集上表现很好的学习器，例如甚至对多有训练样本都分类正确，即分类错误为0，分类精度为$100\\%$,但这是不是我们想要的学习器呢？遗憾的是，这样的学习器在多数情况下都不好。\n",
    "\n",
    "我们实际希望的，是在新样本上能表现的很好的学习器，为了达到这个目的，应该从训练样本中尽可能学出适用于所有潜在样本的“普遍规律”，这样才能在遇到新样本时做出正确的判断，当学习器把训练样本学得“太好”了的时候，很可能已经把训练样本自身的一些特点当做了所有潜在样本都会具有的一般性质，这样就会导致泛化性能下降。这种现象在机器学习中称为“过拟合”(overfitting)，与过拟合相对的是“欠拟合”(underfitting)，这是指对训练样本的一般性质尚未学好。\n",
    "\n",
    "## 3.2 评估方法\n",
    "通常，我们可以通过实验测试对学习器的泛化错误进行评估故而做出选择。为此我们需要一个‘测试集’来测试学习器对新样本的判别能力，然后测试集上的“测试误差”作为泛化错误的近似。通常，我们假设测试样本也是从样本真实分布中独立同分布采样而得。\n",
    "我们得到一个样本，即要训练，又要测试，怎么才能做到呢？答案是：通过对数据集进行适当的处理，从中产生出训练集和测试集。下面介绍几种常用的方法：\n",
    "\n",
    "## 3.2.1 留出法\n",
    "留出法(hold-out)直接将数据集D划分为两个互斥的集合，其中一个作为训练集S，另一个作为测试集T。即$D=S\\cup T, S\\cap T=\\emptyset$"
   ]
  },
  {
   "cell_type": "code",
   "execution_count": 108,
   "metadata": {},
   "outputs": [],
   "source": [
    "# 本章我们使用MNIST数据库，有70000个手写图像的集合，每个图像有个它表示的数字标签，这个数据集也被称为机器学习的hello world\n",
    "import pandas as pd\n",
    "import numpy as np\n",
    "from sklearn.datasets import fetch_mldata\n",
    "import matplotlib\n",
    "import matplotlib.pyplot as plt\n",
    "\n",
    "%matplotlib inline"
   ]
  },
  {
   "cell_type": "code",
   "execution_count": 124,
   "metadata": {},
   "outputs": [
    {
     "data": {
      "text/plain": [
       "(70000, 784)"
      ]
     },
     "execution_count": 124,
     "metadata": {},
     "output_type": "execute_result"
    }
   ],
   "source": [
    "mnist = fetch_mldata('MNIST original',data_home='./datasets')\n",
    "X, y = mnist['data'], mnist['target']\n",
    "X.shape\n",
    "#Scikit-learn 一般有相同的数据结构\n",
    "# DESCR 表示数据库的描述\n",
    "# data 每行代表一个样本，每列表示一个特征\n",
    "# target 包含了数据集的标签"
   ]
  },
  {
   "cell_type": "code",
   "execution_count": 116,
   "metadata": {},
   "outputs": [
    {
     "data": {
      "text/plain": [
       "5.0"
      ]
     },
     "execution_count": 116,
     "metadata": {},
     "output_type": "execute_result"
    },
    {
     "data": {
      "image/png": "[encoded data removed]",
      "text/plain": [
       "<Figure size 432x288 with 1 Axes>"
      ]
     },
     "metadata": {},
     "output_type": "display_data"
    }
   ],
   "source": [
    "some_digit = X[36000]\n",
    "some_digit_image = some_digit.reshape(28, 28)\n",
    "plt.imshow(some_digit_image, cmap=matplotlib.cm.binary,interpolation='nearest')\n",
    "plt.axis('off')\n",
    "y[36000]"
   ]
  },
  {
   "cell_type": "code",
   "execution_count": 170,
   "metadata": {},
   "outputs": [],
   "source": [
    "# 我们把MNIST数据集划分成两个部分，前60000个为训练集合，后10000个为测试集合\n",
    "X_train, X_test, y_train, y_test = X[:60000], X[60000:], y[:60000], y[60000:]\n",
    "shuffle_index = np.random.permutation(60000)\n",
    "X_train, X_test = X_train[shuffle_index], y_train[shuffle_index]"
   ]
  },
  {
   "cell_type": "code",
   "execution_count": 171,
   "metadata": {},
   "outputs": [],
   "source": [
    "# 下面我们使用一个二元分类器，来测试我们的分类性能,二元分类器只能区分两种情况，因此需要改造一下标签\n",
    "y_train_5 = (y_train == 5) # True for all 5s, False for all other digits\n",
    "y_test_5 = (y_test == 5)\n"
   ]
  },
  {
   "cell_type": "code",
   "execution_count": 172,
   "metadata": {},
   "outputs": [
    {
     "name": "stderr",
     "output_type": "stream",
     "text": [
      "/Users/oneai/anaconda3/lib/python3.6/site-packages/sklearn/linear_model/stochastic_gradient.py:128: FutureWarning: max_iter and tol parameters have been added in <class 'sklearn.linear_model.stochastic_gradient.SGDClassifier'> in 0.19. If both are left unset, they default to max_iter=5 and tol=None. If tol is not None, max_iter defaults to max_iter=1000. From 0.21, default max_iter will be 1000, and default tol will be 1e-3.\n",
      "  \"and default tol will be 1e-3.\" % type(self), FutureWarning)\n"
     ]
    },
    {
     "data": {
      "text/plain": [
       "SGDClassifier(alpha=0.0001, average=False, class_weight=None, epsilon=0.1,\n",
       "       eta0=0.0, fit_intercept=True, l1_ratio=0.15,\n",
       "       learning_rate='optimal', loss='hinge', max_iter=None, n_iter=None,\n",
       "       n_jobs=1, penalty='l2', power_t=0.5, random_state=42, shuffle=True,\n",
       "       tol=None, verbose=0, warm_start=False)"
      ]
     },
     "execution_count": 172,
     "metadata": {},
     "output_type": "execute_result"
    }
   ],
   "source": [
    "# Okay 我们使用Stochastic Grandient Descent SGD 分类器，使用Scikit-Learn SGDClassifier 类\n",
    "from sklearn.linear_model import SGDClassifier\n",
    "\n",
    "sgd_clf = SGDClassifier(random_state=42)\n",
    "sgd_clf.fit(X_train, y_train_5)"
   ]
  },
  {
   "cell_type": "code",
   "execution_count": 173,
   "metadata": {},
   "outputs": [
    {
     "data": {
      "text/plain": [
       "array([ True])"
      ]
     },
     "execution_count": 173,
     "metadata": {},
     "output_type": "execute_result"
    }
   ],
   "source": [
    "# 现在分类器已经训练好了，下面我们检测一下\n",
    "sgd_clf.predict([some_digit])"
   ]
  },
  {
   "cell_type": "markdown",
   "metadata": {},
   "source": [
    "## 3.3 分类的评估\n",
    "针对分类器的评估比回归器复杂一些，需要更多技巧。本节我们将详细介绍分类器的评估。\n",
    "### 3.3.1 交叉验证的精度测量\n",
    "使用交叉验证是一个不错的方法。为了解释交叉验证原理，我们首先写一个手动的程序。"
   ]
  },
  {
   "cell_type": "code",
   "execution_count": null,
   "metadata": {},
   "outputs": [],
   "source": []
  },
  {
   "cell_type": "code",
   "execution_count": null,
   "metadata": {},
   "outputs": [],
   "source": []
  },
  {
   "cell_type": "code",
   "execution_count": null,
   "metadata": {},
   "outputs": [],
   "source": []
  },
  {
   "cell_type": "code",
   "execution_count": null,
   "metadata": {},
   "outputs": [],
   "source": []
  },
  {
   "cell_type": "code",
   "execution_count": null,
   "metadata": {},
   "outputs": [],
   "source": []
  },
  {
   "cell_type": "code",
   "execution_count": null,
   "metadata": {},
   "outputs": [],
   "source": []
  },
  {
   "cell_type": "code",
   "execution_count": 74,
   "metadata": {},
   "outputs": [],
   "source": [
    "def split_train_test(data, test_ratio):\n",
    "    \"\"\"data is pandas.DataFrame\"\"\"\n",
    "    np.random.seed(42) # 决定是否采用相同起点\n",
    "    shuffled_indics = np.random.permutation(len(data))\n",
    "    test_set_size = int(len(data) * test_ratio)\n",
    "    test_indices = shuffled_indics[:test_set_size]\n",
    "    train_indices = shuffled_indics[test_set_size:]\n",
    "    return data.iloc[train_indices], data.iloc[test_indices]"
   ]
  },
  {
   "cell_type": "markdown",
   "metadata": {},
   "source": [
    "还有一种方法，根据索引进行分类，决定是测试集还是训练集。通过计算"
   ]
  },
  {
   "cell_type": "code",
   "execution_count": 61,
   "metadata": {},
   "outputs": [],
   "source": [
    "import hashlib\n",
    "\n",
    "def test_set_check(identifier, test_ratio, hash):\n",
    "    return hash(np.int64(identifier)).digest()[-1] < 256 * test_ratio\n",
    "\n",
    "def split_train_test_by_id(data, test_ratio, id_column, hash=hashlib.md5):\n",
    "    ids = data[id_column]\n",
    "    in_test_set = ids.apply(lambda id_: test_set_check(id_, test_ratio, hash))\n",
    "    return data.loc[~in_test_set], data.loc[in_test_set]\n",
    "\n",
    "housing_with_id = housing.reset_index() # adds an 'index' column\n",
    "train_set, test_set = split_train_test_by_id(housing_with_id, 0.2, 'index')"
   ]
  },
  {
   "cell_type": "code",
   "execution_count": 62,
   "metadata": {},
   "outputs": [
    {
     "data": {
      "text/html": [
       "<div>\n",
       "<style scoped>\n",
       "    .dataframe tbody tr th:only-of-type {\n",
       "        vertical-align: middle;\n",
       "    }\n",
       "\n",
       "    .dataframe tbody tr th {\n",
       "        vertical-align: top;\n",
       "    }\n",
       "\n",
       "    .dataframe thead th {\n",
       "        text-align: right;\n",
       "    }\n",
       "</style>\n",
       "<table border=\"1\" class=\"dataframe\">\n",
       "  <thead>\n",
       "    <tr style=\"text-align: right;\">\n",
       "      <th></th>\n",
       "      <th>index</th>\n",
       "      <th>longitude</th>\n",
       "      <th>latitude</th>\n",
       "      <th>housing_median_age</th>\n",
       "      <th>total_rooms</th>\n",
       "      <th>total_bedrooms</th>\n",
       "      <th>population</th>\n",
       "      <th>households</th>\n",
       "      <th>median_income</th>\n",
       "      <th>median_house_value</th>\n",
       "      <th>ocean_proximity</th>\n",
       "    </tr>\n",
       "  </thead>\n",
       "  <tbody>\n",
       "    <tr>\n",
       "      <th>18807</th>\n",
       "      <td>18807</td>\n",
       "      <td>-121.64</td>\n",
       "      <td>40.90</td>\n",
       "      <td>24.0</td>\n",
       "      <td>2237.0</td>\n",
       "      <td>434.0</td>\n",
       "      <td>834.0</td>\n",
       "      <td>318.0</td>\n",
       "      <td>1.7538</td>\n",
       "      <td>90300.0</td>\n",
       "      <td>INLAND</td>\n",
       "    </tr>\n",
       "    <tr>\n",
       "      <th>318</th>\n",
       "      <td>318</td>\n",
       "      <td>-122.19</td>\n",
       "      <td>37.76</td>\n",
       "      <td>38.0</td>\n",
       "      <td>1493.0</td>\n",
       "      <td>370.0</td>\n",
       "      <td>1144.0</td>\n",
       "      <td>351.0</td>\n",
       "      <td>0.7683</td>\n",
       "      <td>81800.0</td>\n",
       "      <td>NEAR BAY</td>\n",
       "    </tr>\n",
       "    <tr>\n",
       "      <th>16715</th>\n",
       "      <td>16715</td>\n",
       "      <td>-120.68</td>\n",
       "      <td>35.50</td>\n",
       "      <td>19.0</td>\n",
       "      <td>3369.0</td>\n",
       "      <td>673.0</td>\n",
       "      <td>1834.0</td>\n",
       "      <td>646.0</td>\n",
       "      <td>3.7672</td>\n",
       "      <td>173800.0</td>\n",
       "      <td>&lt;1H OCEAN</td>\n",
       "    </tr>\n",
       "    <tr>\n",
       "      <th>3465</th>\n",
       "      <td>3465</td>\n",
       "      <td>-118.46</td>\n",
       "      <td>34.31</td>\n",
       "      <td>24.0</td>\n",
       "      <td>2920.0</td>\n",
       "      <td>601.0</td>\n",
       "      <td>1460.0</td>\n",
       "      <td>598.0</td>\n",
       "      <td>4.2708</td>\n",
       "      <td>218200.0</td>\n",
       "      <td>&lt;1H OCEAN</td>\n",
       "    </tr>\n",
       "    <tr>\n",
       "      <th>10935</th>\n",
       "      <td>10935</td>\n",
       "      <td>-117.90</td>\n",
       "      <td>33.74</td>\n",
       "      <td>25.0</td>\n",
       "      <td>808.0</td>\n",
       "      <td>163.0</td>\n",
       "      <td>1066.0</td>\n",
       "      <td>189.0</td>\n",
       "      <td>4.7679</td>\n",
       "      <td>173100.0</td>\n",
       "      <td>&lt;1H OCEAN</td>\n",
       "    </tr>\n",
       "    <tr>\n",
       "      <th>17496</th>\n",
       "      <td>17496</td>\n",
       "      <td>-119.80</td>\n",
       "      <td>34.43</td>\n",
       "      <td>27.0</td>\n",
       "      <td>3143.0</td>\n",
       "      <td>537.0</td>\n",
       "      <td>1760.0</td>\n",
       "      <td>570.0</td>\n",
       "      <td>4.6957</td>\n",
       "      <td>271500.0</td>\n",
       "      <td>NEAR OCEAN</td>\n",
       "    </tr>\n",
       "    <tr>\n",
       "      <th>14214</th>\n",
       "      <td>14214</td>\n",
       "      <td>-117.06</td>\n",
       "      <td>32.68</td>\n",
       "      <td>41.0</td>\n",
       "      <td>2665.0</td>\n",
       "      <td>515.0</td>\n",
       "      <td>1664.0</td>\n",
       "      <td>512.0</td>\n",
       "      <td>2.3750</td>\n",
       "      <td>113500.0</td>\n",
       "      <td>NEAR OCEAN</td>\n",
       "    </tr>\n",
       "    <tr>\n",
       "      <th>314</th>\n",
       "      <td>314</td>\n",
       "      <td>-122.19</td>\n",
       "      <td>37.76</td>\n",
       "      <td>41.0</td>\n",
       "      <td>921.0</td>\n",
       "      <td>207.0</td>\n",
       "      <td>522.0</td>\n",
       "      <td>159.0</td>\n",
       "      <td>1.2083</td>\n",
       "      <td>72500.0</td>\n",
       "      <td>NEAR BAY</td>\n",
       "    </tr>\n",
       "    <tr>\n",
       "      <th>11799</th>\n",
       "      <td>11799</td>\n",
       "      <td>-121.27</td>\n",
       "      <td>38.87</td>\n",
       "      <td>16.0</td>\n",
       "      <td>2094.0</td>\n",
       "      <td>358.0</td>\n",
       "      <td>1092.0</td>\n",
       "      <td>357.0</td>\n",
       "      <td>4.4769</td>\n",
       "      <td>191400.0</td>\n",
       "      <td>INLAND</td>\n",
       "    </tr>\n",
       "    <tr>\n",
       "      <th>20534</th>\n",
       "      <td>20534</td>\n",
       "      <td>-121.74</td>\n",
       "      <td>38.56</td>\n",
       "      <td>18.0</td>\n",
       "      <td>3960.0</td>\n",
       "      <td>1151.0</td>\n",
       "      <td>2248.0</td>\n",
       "      <td>1144.0</td>\n",
       "      <td>1.7257</td>\n",
       "      <td>179100.0</td>\n",
       "      <td>INLAND</td>\n",
       "    </tr>\n",
       "  </tbody>\n",
       "</table>\n",
       "</div>"
      ],
      "text/plain": [
       "       index  longitude  latitude  housing_median_age  total_rooms  \\\n",
       "18807  18807    -121.64     40.90                24.0       2237.0   \n",
       "318      318    -122.19     37.76                38.0       1493.0   \n",
       "16715  16715    -120.68     35.50                19.0       3369.0   \n",
       "3465    3465    -118.46     34.31                24.0       2920.0   \n",
       "10935  10935    -117.90     33.74                25.0        808.0   \n",
       "17496  17496    -119.80     34.43                27.0       3143.0   \n",
       "14214  14214    -117.06     32.68                41.0       2665.0   \n",
       "314      314    -122.19     37.76                41.0        921.0   \n",
       "11799  11799    -121.27     38.87                16.0       2094.0   \n",
       "20534  20534    -121.74     38.56                18.0       3960.0   \n",
       "\n",
       "       total_bedrooms  population  households  median_income  \\\n",
       "18807           434.0       834.0       318.0         1.7538   \n",
       "318             370.0      1144.0       351.0         0.7683   \n",
       "16715           673.0      1834.0       646.0         3.7672   \n",
       "3465            601.0      1460.0       598.0         4.2708   \n",
       "10935           163.0      1066.0       189.0         4.7679   \n",
       "17496           537.0      1760.0       570.0         4.6957   \n",
       "14214           515.0      1664.0       512.0         2.3750   \n",
       "314             207.0       522.0       159.0         1.2083   \n",
       "11799           358.0      1092.0       357.0         4.4769   \n",
       "20534          1151.0      2248.0      1144.0         1.7257   \n",
       "\n",
       "       median_house_value ocean_proximity  \n",
       "18807             90300.0          INLAND  \n",
       "318               81800.0        NEAR BAY  \n",
       "16715            173800.0       <1H OCEAN  \n",
       "3465             218200.0       <1H OCEAN  \n",
       "10935            173100.0       <1H OCEAN  \n",
       "17496            271500.0      NEAR OCEAN  \n",
       "14214            113500.0      NEAR OCEAN  \n",
       "314               72500.0        NEAR BAY  \n",
       "11799            191400.0          INLAND  \n",
       "20534            179100.0          INLAND  "
      ]
     },
     "execution_count": 62,
     "metadata": {},
     "output_type": "execute_result"
    }
   ],
   "source": [
    "train_set.sample(10)"
   ]
  },
  {
   "cell_type": "code",
   "execution_count": 63,
   "metadata": {},
   "outputs": [
    {
     "data": {
      "text/plain": [
       "203"
      ]
     },
     "execution_count": 63,
     "metadata": {},
     "output_type": "execute_result"
    }
   ],
   "source": [
    "hashlib.md5(housing_with_id['index'][1]).digest()[-1]"
   ]
  },
  {
   "cell_type": "markdown",
   "metadata": {},
   "source": [
    "一般来说需要索引是独一无二的，本例数据集中没有这样的索引，其实也可以构造一个\n"
   ]
  },
  {
   "cell_type": "code",
   "execution_count": 64,
   "metadata": {},
   "outputs": [],
   "source": [
    "housing_with_id['id'] = housing['longitude']*1000 + housing['latitude'] \n",
    "train_set, test_set = split_train_test_by_id(housing_with_id, 0.2, 'id')"
   ]
  },
  {
   "cell_type": "code",
   "execution_count": 69,
   "metadata": {},
   "outputs": [
    {
     "data": {
      "text/html": [
       "<div>\n",
       "<style scoped>\n",
       "    .dataframe tbody tr th:only-of-type {\n",
       "        vertical-align: middle;\n",
       "    }\n",
       "\n",
       "    .dataframe tbody tr th {\n",
       "        vertical-align: top;\n",
       "    }\n",
       "\n",
       "    .dataframe thead th {\n",
       "        text-align: right;\n",
       "    }\n",
       "</style>\n",
       "<table border=\"1\" class=\"dataframe\">\n",
       "  <thead>\n",
       "    <tr style=\"text-align: right;\">\n",
       "      <th></th>\n",
       "      <th>index</th>\n",
       "      <th>longitude</th>\n",
       "      <th>latitude</th>\n",
       "      <th>housing_median_age</th>\n",
       "      <th>total_rooms</th>\n",
       "      <th>total_bedrooms</th>\n",
       "      <th>population</th>\n",
       "      <th>households</th>\n",
       "      <th>median_income</th>\n",
       "      <th>median_house_value</th>\n",
       "      <th>ocean_proximity</th>\n",
       "      <th>id</th>\n",
       "    </tr>\n",
       "  </thead>\n",
       "  <tbody>\n",
       "    <tr>\n",
       "      <th>1461</th>\n",
       "      <td>1461</td>\n",
       "      <td>-121.99</td>\n",
       "      <td>37.97</td>\n",
       "      <td>30.0</td>\n",
       "      <td>3320.0</td>\n",
       "      <td>589.0</td>\n",
       "      <td>1470.0</td>\n",
       "      <td>543.0</td>\n",
       "      <td>4.6071</td>\n",
       "      <td>184100.0</td>\n",
       "      <td>INLAND</td>\n",
       "      <td>-121952.03</td>\n",
       "    </tr>\n",
       "    <tr>\n",
       "      <th>1972</th>\n",
       "      <td>1972</td>\n",
       "      <td>-120.54</td>\n",
       "      <td>38.75</td>\n",
       "      <td>9.0</td>\n",
       "      <td>3006.0</td>\n",
       "      <td>540.0</td>\n",
       "      <td>1102.0</td>\n",
       "      <td>418.0</td>\n",
       "      <td>3.9812</td>\n",
       "      <td>136600.0</td>\n",
       "      <td>INLAND</td>\n",
       "      <td>-120501.25</td>\n",
       "    </tr>\n",
       "    <tr>\n",
       "      <th>6948</th>\n",
       "      <td>6948</td>\n",
       "      <td>-118.08</td>\n",
       "      <td>33.99</td>\n",
       "      <td>36.0</td>\n",
       "      <td>2024.0</td>\n",
       "      <td>590.0</td>\n",
       "      <td>2028.0</td>\n",
       "      <td>573.0</td>\n",
       "      <td>2.8152</td>\n",
       "      <td>163900.0</td>\n",
       "      <td>&lt;1H OCEAN</td>\n",
       "      <td>-118046.01</td>\n",
       "    </tr>\n",
       "    <tr>\n",
       "      <th>14743</th>\n",
       "      <td>14743</td>\n",
       "      <td>-117.06</td>\n",
       "      <td>32.58</td>\n",
       "      <td>11.0</td>\n",
       "      <td>2879.0</td>\n",
       "      <td>679.0</td>\n",
       "      <td>2098.0</td>\n",
       "      <td>673.0</td>\n",
       "      <td>3.5125</td>\n",
       "      <td>142400.0</td>\n",
       "      <td>NEAR OCEAN</td>\n",
       "      <td>-117027.42</td>\n",
       "    </tr>\n",
       "    <tr>\n",
       "      <th>12485</th>\n",
       "      <td>12485</td>\n",
       "      <td>-121.48</td>\n",
       "      <td>38.58</td>\n",
       "      <td>42.0</td>\n",
       "      <td>1823.0</td>\n",
       "      <td>566.0</td>\n",
       "      <td>761.0</td>\n",
       "      <td>503.0</td>\n",
       "      <td>1.2450</td>\n",
       "      <td>137500.0</td>\n",
       "      <td>INLAND</td>\n",
       "      <td>-121441.42</td>\n",
       "    </tr>\n",
       "    <tr>\n",
       "      <th>14128</th>\n",
       "      <td>14128</td>\n",
       "      <td>-117.09</td>\n",
       "      <td>32.75</td>\n",
       "      <td>28.0</td>\n",
       "      <td>1220.0</td>\n",
       "      <td>391.0</td>\n",
       "      <td>1286.0</td>\n",
       "      <td>396.0</td>\n",
       "      <td>1.2286</td>\n",
       "      <td>105000.0</td>\n",
       "      <td>NEAR OCEAN</td>\n",
       "      <td>-117057.25</td>\n",
       "    </tr>\n",
       "    <tr>\n",
       "      <th>8300</th>\n",
       "      <td>8300</td>\n",
       "      <td>-118.14</td>\n",
       "      <td>33.76</td>\n",
       "      <td>50.0</td>\n",
       "      <td>914.0</td>\n",
       "      <td>167.0</td>\n",
       "      <td>322.0</td>\n",
       "      <td>165.0</td>\n",
       "      <td>4.7361</td>\n",
       "      <td>418800.0</td>\n",
       "      <td>NEAR OCEAN</td>\n",
       "      <td>-118106.24</td>\n",
       "    </tr>\n",
       "    <tr>\n",
       "      <th>5274</th>\n",
       "      <td>5274</td>\n",
       "      <td>-118.53</td>\n",
       "      <td>34.03</td>\n",
       "      <td>40.0</td>\n",
       "      <td>4350.0</td>\n",
       "      <td>763.0</td>\n",
       "      <td>1551.0</td>\n",
       "      <td>665.0</td>\n",
       "      <td>7.0318</td>\n",
       "      <td>500001.0</td>\n",
       "      <td>&lt;1H OCEAN</td>\n",
       "      <td>-118495.97</td>\n",
       "    </tr>\n",
       "    <tr>\n",
       "      <th>17672</th>\n",
       "      <td>17672</td>\n",
       "      <td>-121.87</td>\n",
       "      <td>37.30</td>\n",
       "      <td>14.0</td>\n",
       "      <td>360.0</td>\n",
       "      <td>124.0</td>\n",
       "      <td>134.0</td>\n",
       "      <td>84.0</td>\n",
       "      <td>2.7411</td>\n",
       "      <td>112500.0</td>\n",
       "      <td>&lt;1H OCEAN</td>\n",
       "      <td>-121832.70</td>\n",
       "    </tr>\n",
       "    <tr>\n",
       "      <th>12540</th>\n",
       "      <td>12540</td>\n",
       "      <td>-121.50</td>\n",
       "      <td>38.55</td>\n",
       "      <td>52.0</td>\n",
       "      <td>2784.0</td>\n",
       "      <td>455.0</td>\n",
       "      <td>957.0</td>\n",
       "      <td>448.0</td>\n",
       "      <td>5.6402</td>\n",
       "      <td>209800.0</td>\n",
       "      <td>INLAND</td>\n",
       "      <td>-121461.45</td>\n",
       "    </tr>\n",
       "  </tbody>\n",
       "</table>\n",
       "</div>"
      ],
      "text/plain": [
       "       index  longitude  latitude  housing_median_age  total_rooms  \\\n",
       "1461    1461    -121.99     37.97                30.0       3320.0   \n",
       "1972    1972    -120.54     38.75                 9.0       3006.0   \n",
       "6948    6948    -118.08     33.99                36.0       2024.0   \n",
       "14743  14743    -117.06     32.58                11.0       2879.0   \n",
       "12485  12485    -121.48     38.58                42.0       1823.0   \n",
       "14128  14128    -117.09     32.75                28.0       1220.0   \n",
       "8300    8300    -118.14     33.76                50.0        914.0   \n",
       "5274    5274    -118.53     34.03                40.0       4350.0   \n",
       "17672  17672    -121.87     37.30                14.0        360.0   \n",
       "12540  12540    -121.50     38.55                52.0       2784.0   \n",
       "\n",
       "       total_bedrooms  population  households  median_income  \\\n",
       "1461            589.0      1470.0       543.0         4.6071   \n",
       "1972            540.0      1102.0       418.0         3.9812   \n",
       "6948            590.0      2028.0       573.0         2.8152   \n",
       "14743           679.0      2098.0       673.0         3.5125   \n",
       "12485           566.0       761.0       503.0         1.2450   \n",
       "14128           391.0      1286.0       396.0         1.2286   \n",
       "8300            167.0       322.0       165.0         4.7361   \n",
       "5274            763.0      1551.0       665.0         7.0318   \n",
       "17672           124.0       134.0        84.0         2.7411   \n",
       "12540           455.0       957.0       448.0         5.6402   \n",
       "\n",
       "       median_house_value ocean_proximity         id  \n",
       "1461             184100.0          INLAND -121952.03  \n",
       "1972             136600.0          INLAND -120501.25  \n",
       "6948             163900.0       <1H OCEAN -118046.01  \n",
       "14743            142400.0      NEAR OCEAN -117027.42  \n",
       "12485            137500.0          INLAND -121441.42  \n",
       "14128            105000.0      NEAR OCEAN -117057.25  \n",
       "8300             418800.0      NEAR OCEAN -118106.24  \n",
       "5274             500001.0       <1H OCEAN -118495.97  \n",
       "17672            112500.0       <1H OCEAN -121832.70  \n",
       "12540            209800.0          INLAND -121461.45  "
      ]
     },
     "execution_count": 69,
     "metadata": {},
     "output_type": "execute_result"
    }
   ],
   "source": [
    "train_set.sample(10)"
   ]
  },
  {
   "cell_type": "markdown",
   "metadata": {},
   "source": [
    "scikit-learn 提供了将数据集进行分割的方法，其中最简单一个是train_test_split"
   ]
  },
  {
   "cell_type": "code",
   "execution_count": 70,
   "metadata": {},
   "outputs": [],
   "source": [
    "from sklearn.model_selection import train_test_split\n",
    "\n",
    "train_set, test_set = train_test_split(housing, test_size=0.2, random_state=42)"
   ]
  },
  {
   "cell_type": "code",
   "execution_count": 71,
   "metadata": {},
   "outputs": [
    {
     "data": {
      "text/html": [
       "<div>\n",
       "<style scoped>\n",
       "    .dataframe tbody tr th:only-of-type {\n",
       "        vertical-align: middle;\n",
       "    }\n",
       "\n",
       "    .dataframe tbody tr th {\n",
       "        vertical-align: top;\n",
       "    }\n",
       "\n",
       "    .dataframe thead th {\n",
       "        text-align: right;\n",
       "    }\n",
       "</style>\n",
       "<table border=\"1\" class=\"dataframe\">\n",
       "  <thead>\n",
       "    <tr style=\"text-align: right;\">\n",
       "      <th></th>\n",
       "      <th>longitude</th>\n",
       "      <th>latitude</th>\n",
       "      <th>housing_median_age</th>\n",
       "      <th>total_rooms</th>\n",
       "      <th>total_bedrooms</th>\n",
       "      <th>population</th>\n",
       "      <th>households</th>\n",
       "      <th>median_income</th>\n",
       "      <th>median_house_value</th>\n",
       "      <th>ocean_proximity</th>\n",
       "    </tr>\n",
       "  </thead>\n",
       "  <tbody>\n",
       "    <tr>\n",
       "      <th>14196</th>\n",
       "      <td>-117.03</td>\n",
       "      <td>32.71</td>\n",
       "      <td>33.0</td>\n",
       "      <td>3126.0</td>\n",
       "      <td>627.0</td>\n",
       "      <td>2300.0</td>\n",
       "      <td>623.0</td>\n",
       "      <td>3.2596</td>\n",
       "      <td>103000.0</td>\n",
       "      <td>NEAR OCEAN</td>\n",
       "    </tr>\n",
       "    <tr>\n",
       "      <th>8267</th>\n",
       "      <td>-118.16</td>\n",
       "      <td>33.77</td>\n",
       "      <td>49.0</td>\n",
       "      <td>3382.0</td>\n",
       "      <td>787.0</td>\n",
       "      <td>1314.0</td>\n",
       "      <td>756.0</td>\n",
       "      <td>3.8125</td>\n",
       "      <td>382100.0</td>\n",
       "      <td>NEAR OCEAN</td>\n",
       "    </tr>\n",
       "    <tr>\n",
       "      <th>17445</th>\n",
       "      <td>-120.48</td>\n",
       "      <td>34.66</td>\n",
       "      <td>4.0</td>\n",
       "      <td>1897.0</td>\n",
       "      <td>331.0</td>\n",
       "      <td>915.0</td>\n",
       "      <td>336.0</td>\n",
       "      <td>4.1563</td>\n",
       "      <td>172600.0</td>\n",
       "      <td>NEAR OCEAN</td>\n",
       "    </tr>\n",
       "    <tr>\n",
       "      <th>14265</th>\n",
       "      <td>-117.11</td>\n",
       "      <td>32.69</td>\n",
       "      <td>36.0</td>\n",
       "      <td>1421.0</td>\n",
       "      <td>367.0</td>\n",
       "      <td>1418.0</td>\n",
       "      <td>355.0</td>\n",
       "      <td>1.9425</td>\n",
       "      <td>93400.0</td>\n",
       "      <td>NEAR OCEAN</td>\n",
       "    </tr>\n",
       "    <tr>\n",
       "      <th>2271</th>\n",
       "      <td>-119.80</td>\n",
       "      <td>36.78</td>\n",
       "      <td>43.0</td>\n",
       "      <td>2382.0</td>\n",
       "      <td>431.0</td>\n",
       "      <td>874.0</td>\n",
       "      <td>380.0</td>\n",
       "      <td>3.5542</td>\n",
       "      <td>96500.0</td>\n",
       "      <td>INLAND</td>\n",
       "    </tr>\n",
       "  </tbody>\n",
       "</table>\n",
       "</div>"
      ],
      "text/plain": [
       "       longitude  latitude  housing_median_age  total_rooms  total_bedrooms  \\\n",
       "14196    -117.03     32.71                33.0       3126.0           627.0   \n",
       "8267     -118.16     33.77                49.0       3382.0           787.0   \n",
       "17445    -120.48     34.66                 4.0       1897.0           331.0   \n",
       "14265    -117.11     32.69                36.0       1421.0           367.0   \n",
       "2271     -119.80     36.78                43.0       2382.0           431.0   \n",
       "\n",
       "       population  households  median_income  median_house_value  \\\n",
       "14196      2300.0       623.0         3.2596            103000.0   \n",
       "8267       1314.0       756.0         3.8125            382100.0   \n",
       "17445       915.0       336.0         4.1563            172600.0   \n",
       "14265      1418.0       355.0         1.9425             93400.0   \n",
       "2271        874.0       380.0         3.5542             96500.0   \n",
       "\n",
       "      ocean_proximity  \n",
       "14196      NEAR OCEAN  \n",
       "8267       NEAR OCEAN  \n",
       "17445      NEAR OCEAN  \n",
       "14265      NEAR OCEAN  \n",
       "2271           INLAND  "
      ]
     },
     "execution_count": 71,
     "metadata": {},
     "output_type": "execute_result"
    }
   ],
   "source": [
    "train_set.head()"
   ]
  },
  {
   "cell_type": "markdown",
   "metadata": {},
   "source": [
    "### 3.1.2 分层抽样\n",
    "分层抽样法也叫类型抽样法。它是从一个可以分成不同子总体（或称为层）的总体中，按规定的比例从不同层中随机抽取样品（个体）的方法。这种方法的优点是，样本的代表性比较好，抽样误差比较小。缺点是抽样手续较简单随机抽样还要繁杂些。定量调查中的分层抽样是一种卓越的概率抽样方式，在调查中经常被使用。\n",
    "当目前为止，我们使用单纯抽样的留出法，如果样本数据足够大，则表现良好。因此当样本小的时候就会存在显著的采样偏差。\n",
    "假设有人对你说平均收入对于预测平均房价是很重要的，你可以按收入进行分层，并按照比例从不同收入中随机抽取样本。记抽样后不改变主要性质。\n"
   ]
  },
  {
   "cell_type": "code",
   "execution_count": 83,
   "metadata": {},
   "outputs": [],
   "source": [
    "housing['income_cat'] = np.ceil(housing['median_income']/1.5)\n",
    "housing['income_cat'].where(housing['income_cat'] < 5, 5.0, inplace=True)"
   ]
  },
  {
   "cell_type": "code",
   "execution_count": 84,
   "metadata": {},
   "outputs": [
    {
     "data": {
      "text/plain": [
       "count    20640.000000\n",
       "mean         3.006686\n",
       "std          1.054618\n",
       "min          1.000000\n",
       "25%          2.000000\n",
       "50%          3.000000\n",
       "75%          4.000000\n",
       "max          5.000000\n",
       "Name: income_cat, dtype: float64"
      ]
     },
     "execution_count": 84,
     "metadata": {},
     "output_type": "execute_result"
    }
   ],
   "source": [
    "housing.income_cat.describe()"
   ]
  },
  {
   "cell_type": "code",
   "execution_count": 93,
   "metadata": {},
   "outputs": [],
   "source": [
    "from sklearn.model_selection import StratifiedShuffleSplit\n",
    "split = StratifiedShuffleSplit(n_splits = 1, test_size=0.2, random_state=42)\n",
    "for train_index, test_index in split.split(housing, housing['income_cat']):\n",
    "    strat_train_set = housing.loc[train_index]\n",
    "    strat_test_set = housing.loc[test_index]\n",
    "    "
   ]
  },
  {
   "cell_type": "code",
   "execution_count": 94,
   "metadata": {},
   "outputs": [
    {
     "data": {
      "text/plain": [
       "[(array([17606, 18632, 14650, ..., 13908, 11159, 15775]),\n",
       "  array([ 5241, 10970, 20351, ...,  4019, 12107,  2398]))]"
      ]
     },
     "execution_count": 94,
     "metadata": {},
     "output_type": "execute_result"
    }
   ],
   "source": [
    "list(split.split(housing, housing['income_cat']))"
   ]
  },
  {
   "cell_type": "markdown",
   "metadata": {},
   "source": [
    "## 3.2 交叉验证法"
   ]
  },
  {
   "cell_type": "code",
   "execution_count": null,
   "metadata": {},
   "outputs": [],
   "source": []
  }
 ],
 "metadata": {
  "kernelspec": {
   "display_name": "Python 3",
   "language": "python",
   "name": "python3"
  },
  "language_info": {
   "codemirror_mode": {
    "name": "ipython",
    "version": 3
   },
   "file_extension": ".py",
   "mimetype": "text/x-python",
   "name": "python",
   "nbconvert_exporter": "python",
   "pygments_lexer": "ipython3",
   "version": "3.6.8"
  }
 },
 "nbformat": 4,
 "nbformat_minor": 2
}
