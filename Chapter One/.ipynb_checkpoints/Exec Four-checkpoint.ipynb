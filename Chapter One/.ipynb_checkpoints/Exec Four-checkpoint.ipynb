{
 "cells": [
  {
   "cell_type": "code",
   "execution_count": 5,
   "metadata": {},
   "outputs": [],
   "source": [
    "import torch \n",
    "import pandas as pd\n",
    "import numpy as np\n",
    "import matplotlib as mpl\n",
    "import seaborn as sns\n",
    "import matplotlib.pyplot as plt\n",
    "from functools import reduce\n",
    "import matplotlib.pyplot as plt\n",
    "from sympy import *\n",
    "from mpl_toolkits.mplot3d import Axes3D\n",
    "import scipy.stats as stats\n",
    "from common import *\n",
    "\n",
    "from scipy.stats import chi2                 # 卡方分布\n",
    "from scipy.stats import norm                 # 正态分布\n",
    "from scipy.stats import t                    # t分布\n",
    "from scipy.stats import f                    # F分布\n",
    "from scipy.stats import chi2_contingency     # 列联表分析\n",
    "\n",
    "plt.rcParams['font.sans-serif']=['SimHei'] #用来正常显示中文标签\n",
    "plt.rcParams['axes.unicode_minus']=False #用来正常显示负号\n"
   ]
  },
  {
   "cell_type": "code",
   "execution_count": 8,
   "metadata": {},
   "outputs": [
    {
     "data": {
      "text/plain": [
       "Text(0.5, 1.0, '自由度为20时的卡方概率密度函数图')"
      ]
     },
     "execution_count": 8,
     "metadata": {},
     "output_type": "execute_result"
    },
    {
     "data": {
      "image/png": "[encoded data removed]",
      "text/plain": [
       "<Figure size 720x576 with 1 Axes>"
      ]
     },
     "metadata": {
      "needs_background": "light"
     },
     "output_type": "display_data"
    }
   ],
   "source": [
    "# ppf以概率的形式，查询函数值-----------类似分布临界表\n",
    "\n",
    "plt.figure(figsize=(10, 8))\n",
    "# example ------------------------------------------- 卡方分布(右侧单边)\n",
    "plt.subplot2grid((2, 2), (0, 0))\n",
    "df = 20                                                   # 自由度\n",
    "# print(chi2.ppf(0.01, df))                               # 计算函q=0.01概率时数值。其中 q = 1-a\n",
    "# print(chi2.cdf(8.260, df))                              # 知道x值求a\n",
    "x = np.linspace(chi2.ppf(0.01, df),                       # 绘制概率密度图\n",
    "                 chi2.ppf(0.99, df), 100)\n",
    "plt.plot(x, chi2.pdf(x, df), alpha=0.6, label='chi2 pdf')\n",
    "plt.title('自由度为20时的卡方概率密度函数图', size=10)\n",
    "# 计算平均数、方差、标准差\n",
    "# print(chi2.mean(df))\n",
    "# print(chi2.var(df))\n",
    "# print(chi2.std(df))\n",
    "\n",
    "# example ---------------------------------------------------- 标准正态分布(左侧单边)\n",
    "plt.subplot2grid((2, 2), (0, 1))\n",
    "# print(norm.ppf(0.6179))                                         # 知道q时求x, q=a\n",
    "# print(norm.cdf(0.3))                                            # 知道x时求q\n",
    "x = np.linspace(norm.ppf(0.01), norm.ppf(0.99), 100)\n",
    "plt.plot(x, norm.pdf(x), alpha=0.6, label='norm pdf')\n",
    "plt.title(u'标准正态分布概率密度函数图',  fontproperties=titleZW_font_set, size=10)\n",
    "\n",
    "\n",
    "# example ----------------------------------------------------- t分布(双边分布)\n",
    "plt.subplot2grid((2, 2), (1, 0))\n",
    "df = 15\n",
    "x = np.linspace(t.ppf(0.01, df), t.ppf(0.99, df), 100)\n",
    "# print(t.ppf(0.95, df))                                           # q=0.95,a=(1-q)*2\n",
    "# print(t.cdf(1.753, df))\n",
    "plt.plot(x, t.pdf(x, df), alpha=0.6, label='t pdf')\n",
    "plt.title(u'自由度为15时的t分布概率密度函数图',  fontproperties=titleZW_font_set, size=10)\n",
    "\n",
    "\n",
    "# example ------------------------------------------------------ F分布(右侧单边分布)\n",
    "plt.subplot2grid((2, 2), (1, 1))\n",
    "df = 5\n",
    "dn = 8\n",
    "x = np.linspace(f.ppf(0.01, df, dn), f.ppf(0.99, df, dn), 100)\n",
    "# print(f.ppf(0.95, df, dn))\n",
    "plt.plot(x, f.pdf(x, df, dn), alpha=0.6, label='f pdf')\n",
    "plt.title(u'自由度为5和8时的f分布概率密度函数图',  fontproperties=titleZW_font_set, size=10)\n",
    "\n",
    "\n",
    "# example ------------------------------------------------------- 非标准正态分布\n",
    "plt.figure()\n",
    "std = 1\n",
    "mean = 2\n",
    "normalDistribution = stats.norm(mean, std)                        # 构建统计分布\n",
    "x = np.linspace(normalDistribution.ppf(0.01), normalDistribution.ppf(0.99), 100)\n",
    "plt.plot(x, normalDistribution.pdf(x))\n",
    "# plt.show()\n",
    "\n",
    "# example -------------------------------------------------------- 对连续数据进行正态拟合\n",
    "plt.figure()\n",
    "train = pd.read_csv(\"csv/Titanic/train.csv\")\n",
    "train_Age = train.dropna(subset=['Age'])\n",
    "M_S = stats.norm.fit(train_Age['Age'])                            # 正态拟合的平均值与标准差\n",
    "train_Age['Age'].plot(kind='kde')                                 # 原本的概率密度分布图\n",
    "\n",
    "normalDistribution = stats.norm(M_S[0], M_S[1])                   # 绘制拟合的正态分布图\n",
    "x = np.linspace(normalDistribution.ppf(0.01), normalDistribution.ppf(0.99), 100)\n",
    "plt.plot(x, normalDistribution.pdf(x), c='orange')\n",
    "plt.xlabel('Age about Titanic')\n",
    "plt.title('Titanic[Age] on NormalDistribution', size=20)\n",
    "plt.legend(['Origin', 'NormDistribution'])\n",
    "\n",
    "\n",
    "# ----------------------------------------------------------------- R x C列联表，独立性检验\n",
    "# 建立关于性别与存活\n",
    "train_pclass_0 = train['Pclass'][train['Survived'] == 0].value_counts()\n",
    "train_pclass_1 = train['Pclass'][train['Survived'] == 1].value_counts()\n",
    "train_pclass_01 = pd.concat([train_pclass_0, train_pclass_1], axis=1, sort=True)\n",
    "train_pclass_01.columns = ['Not_Survived', 'Survived']\n",
    "g, p, dof, expctd = chi2_contingency(train_pclass_01.values)             # g为chi2值，服从自由度为dof的卡方分布\n",
    "\n",
    "print(g)\n",
    "# 拟合优度检验，判断两个分类型变量是否独立\n",
    "# 首先绘制卡方自由度为dof的曲线\n",
    "plt.figure()\n",
    "x = np.linspace(chi2.ppf(0.01, dof), chi2.ppf(0.99, dof), 100)\n",
    "plt.plot(x, chi2.pdf(x, dof))\n",
    "\n",
    "# 以95%置信区间，查看小概率事件区间\n",
    "plt.axvline(chi2.ppf(0.975, dof), color='r')\n",
    "plt.axvline(chi2.ppf(0.025, dof), color='r')\n",
    "plt.title('chi2 distribution'+'whose dof is '+str(dof))\n",
    "plt.text(chi2.ppf(0.975, dof), 0.02, 'q=0.95,z='+str(round(chi2.ppf(0.975, dof), 2)), ha='right', va='top', color='g', alpha=0.8, size=15)\n",
    "plt.text(chi2.ppf(0.025, dof), 0.02, 'q=0.05,z='+str(round(chi2.ppf(0.025, dof), 2)), ha='left', va='top', color='g', alpha=0.8, size=15)\n",
    "\n",
    "plt.show()\n"
   ]
  },
  {
   "cell_type": "code",
   "execution_count": null,
   "metadata": {},
   "outputs": [],
   "source": []
  }
 ],
 "metadata": {
  "kernelspec": {
   "display_name": "Python 3",
   "language": "python",
   "name": "python3"
  },
  "language_info": {
   "codemirror_mode": {
    "name": "ipython",
    "version": 3
   },
   "file_extension": ".py",
   "mimetype": "text/x-python",
   "name": "python",
   "nbconvert_exporter": "python",
   "pygments_lexer": "ipython3",
   "version": "3.7.3"
  }
 },
 "nbformat": 4,
 "nbformat_minor": 2
}
