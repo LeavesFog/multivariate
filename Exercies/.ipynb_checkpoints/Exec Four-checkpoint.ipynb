{
 "cells": [
  {
   "cell_type": "code",
   "execution_count": 15,
   "metadata": {},
   "outputs": [],
   "source": [
    "import torch \n",
    "import pandas as pd\n",
    "import numpy as np\n",
    "import matplotlib as mpl\n",
    "import seaborn as sns\n",
    "import matplotlib.pyplot as plt\n",
    "from functools import reduce\n",
    "import matplotlib.pyplot as plt\n",
    "from sympy import *\n",
    "from mpl_toolkits.mplot3d import Axes3D\n",
    "import scipy.stats as stats\n",
    "from common import *\n",
    "\n",
    "from scipy.stats import chi2                 # 卡方分布\n",
    "from scipy.stats import norm                 # 正态分布\n",
    "from scipy.stats import t                    # t分布\n",
    "from scipy.stats import f                    # F分布\n",
    "from scipy.stats import chi2_contingency     # 列联表分析\n",
    "\n",
    "plt.rcParams['font.sans-serif']=['SimHei'] #用来正常显示中文标签\n",
    "plt.rcParams['axes.unicode_minus']=False #用来正常显示负号\n"
   ]
  },
  {
   "cell_type": "code",
   "execution_count": 48,
   "metadata": {},
   "outputs": [
    {
     "name": "stdout",
     "output_type": "stream",
     "text": [
      "38*39 = 1482      93*19 = 1767      33*37 = 1221      \n",
      "73*95 = 6935      29*96 = 2784      87*69 = 6003      \n",
      "85*13 = 1105      95*56 = 5320      13*37 =  481      \n",
      "34*98 = 3332      63*14 =  882      47*19 =  893      \n",
      "39*14 =  546      33*49 = 1617      78*53 = 4134      \n",
      "73*24 = 1752      79*65 = 5135      19*56 = 1064      \n",
      "67*83 = 5561      64*59 = 3776      35*49 = 1715      \n",
      "19*82 = 1558      36*38 = 1368      34*88 = 2992      \n",
      "54*44 = 2376      13*95 = 1235      77*52 = 4004      \n",
      "87*46 = 4002      27*73 = 1971      66*84 = 5544      \n",
      "68*65 = 4420      89*39 = 3471      27*54 = 1458      \n",
      "82*67 = 5494      49*76 = 3724      62*77 = 4774      \n",
      "29*47 = 1363      13*94 = 1222      64*56 = 3584      \n",
      "16*78 = 1248      43*47 = 2021      74*87 = 6438      \n",
      "19*95 = 1805      67*95 = 6365      33*77 = 2541      \n",
      "37*28 = 1036      85*83 = 7055      56*75 = 4200      \n",
      "52*68 = 3536      83*48 = 3984      19*94 = 1786      \n",
      "48*86 = 4128      77*65 = 5005      86*89 = 7654      \n",
      "45*68 = 3060      75*34 = 2550      15*66 =  990      \n",
      "82*68 = 5576      25*27 =  675      76*88 = 6688      \n"
     ]
    }
   ],
   "source": [
    "m = 0\n",
    "f  = open('jisuan.txt', \"w\")\n",
    "for i in range(100):\n",
    "    a = np.random.randint(10, 99)\n",
    "    b = np.random.randint(10, 99)\n",
    "    if (a%10)*(b%10) > 10:\n",
    "        m += 1;\n",
    "        if (m % 3) == 0:\n",
    "            print(f\"{a:2d}*{b:2d} = {a*b:4d}      \")\n",
    "            f.write(f\"{a:2d}*{b:2d} = {a*b:4d}      \\n\")\n",
    "        else:\n",
    "            print(f\"{a:2d}*{b:2d} = {a*b:4d}      \", end='')\n",
    "            f.write(f\"{a:2d}*{b:2d} = {a*b:4d}      \")\n",
    "f.close()"
   ]
  },
  {
   "cell_type": "code",
   "execution_count": null,
   "metadata": {},
   "outputs": [],
   "source": []
  },
  {
   "cell_type": "code",
   "execution_count": null,
   "metadata": {},
   "outputs": [],
   "source": []
  }
 ],
 "metadata": {
  "kernelspec": {
   "display_name": "Python 3",
   "language": "python",
   "name": "python3"
  },
  "language_info": {
   "codemirror_mode": {
    "name": "ipython",
    "version": 3
   },
   "file_extension": ".py",
   "mimetype": "text/x-python",
   "name": "python",
   "nbconvert_exporter": "python",
   "pygments_lexer": "ipython3",
   "version": "3.7.3"
  }
 },
 "nbformat": 4,
 "nbformat_minor": 2
}
