{
 "cells": [
  {
   "cell_type": "markdown",
   "metadata": {},
   "source": [
    "# 典型相关分析\n",
    "\n",
    "## 10.1 引言\n",
    "典型相关分析的目的是识别并量化两组变量之间的联系，Hotelling最早开发了这项技术，研究重点是，一组变量的线性组合和另一组变量的线性组合之间相关关系，思路如下：首先求一对线性组合，它有最大相关系数，下一步从与选出对不相关的线性组合配对中，选出有最大相关系数的一对，如此继续下去，选出的线性组合配对成为典型变量，它们之间的相关系数称为典型相关系数。\n",
    "典型相关系数度量了这两组变量之间联系的强度，此项最大化技术是努力将两组变量间一个高维关系浓缩到少数几对典型变量来体现。"
   ]
  },
  {
   "cell_type": "code",
   "execution_count": 9,
   "metadata": {},
   "outputs": [],
   "source": [
    "import numpy as np\n",
    "import pandas as pd\n",
    "from sklearn.cross_decomposition import CCA\n",
    "X = [[0., 0., 1.], [1.,0.,0.], [2.,2.,2.], [3.,5.,4.]]\n",
    "Y = [[0.1, -0.2], [0.9, 1.1], [6.2, 5.9], [11.9, 12.3]]\n",
    "cca = CCA(n_components=1)\n",
    "cca.fit(X, Y)\n",
    "\n",
    "CCA(copy=True, max_iter=500, n_components=1, scale=True, tol=1e-06)\n",
    "X_c, Y_c = cca.transform(X, Y)\n"
   ]
  },
  {
   "cell_type": "code",
   "execution_count": 10,
   "metadata": {},
   "outputs": [
    {
     "data": {
      "text/plain": [
       "array([[-1.3373174 ],\n",
       "       [-1.10847164],\n",
       "       [ 0.40763151],\n",
       "       [ 2.03815753]])"
      ]
     },
     "execution_count": 10,
     "metadata": {},
     "output_type": "execute_result"
    }
   ],
   "source": [
    "X_c"
   ]
  },
  {
   "cell_type": "code",
   "execution_count": 11,
   "metadata": {},
   "outputs": [
    {
     "data": {
      "text/plain": [
       "array([[-0.85511537],\n",
       "       [-0.70878547],\n",
       "       [ 0.26065014],\n",
       "       [ 1.3032507 ]])"
      ]
     },
     "execution_count": 11,
     "metadata": {},
     "output_type": "execute_result"
    }
   ],
   "source": [
    "Y_c"
   ]
  },
  {
   "cell_type": "code",
   "execution_count": 12,
   "metadata": {},
   "outputs": [],
   "source": [
    "import sklearn"
   ]
  },
  {
   "cell_type": "code",
   "execution_count": null,
   "metadata": {},
   "outputs": [],
   "source": []
  }
 ],
 "metadata": {
  "kernelspec": {
   "display_name": "Python 3",
   "language": "python",
   "name": "python3"
  },
  "language_info": {
   "codemirror_mode": {
    "name": "ipython",
    "version": 3
   },
   "file_extension": ".py",
   "mimetype": "text/x-python",
   "name": "python",
   "nbconvert_exporter": "python",
   "pygments_lexer": "ipython3",
   "version": "3.6.8"
  }
 },
 "nbformat": 4,
 "nbformat_minor": 2
}
