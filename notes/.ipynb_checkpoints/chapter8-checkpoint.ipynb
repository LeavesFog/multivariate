{
 "cells": [
  {
   "cell_type": "markdown",
   "metadata": {},
   "source": [
    "# 主成分\n",
    "## 8.1 引言\n",
    "主成分分析所关心的问题，是通过一组变量的几个线性组合来解释这组变量的方差-协方差结构，它的一般目的是\n",
    "1. 数据的压缩\n",
    "2. 数据的解释\n",
    "\n",
    "## 8.2 总体主成分\n",
    "主成分，在代数学上是p个随机变量$X_1, X_2, \\dots, X_p$的一个特殊的线性组合，而在几何学上，这些线性组合代表选取一个新坐标系，它是以$X_1, X_2, \\dots, X_p$为坐标轴的原坐标系旋转后得到的。新坐标轴代表数据变异性最大的方向，并且提供对协方差结构的一个较为简单但更精炼的刻画。\n",
    "\n",
    "我们看到主成分只依赖于$X_1, X_2, \\dots, X_p$的协方差军阵$\\Sigma$(或相关矩阵$\\rho$),它们的进一步讨论不需要做多元正态假定。另一方面，对于多元正态总体导出的主成分可以使用常数密度椭球来作有用的阐述，进而，当总体是多元正态时，可由样本分量做出推断。\n",
    "设随机向量$X^{'}=[X_1, X_2, \\dots, X_p]$有协方差矩阵$\\Sigma$，其特征值$\\lambda_1 \\geq \\lambda_2 \\geq \\dots \\geq \\lambda_p \\geq 0$\n",
    "考虑线性组合\n",
    "$$Y_1=a_1^{'}X = a_{11}X_1+a_{12}X_2+\\dots+a_{1p}X_p$$\n",
    "$$Y_2=a_2^{'}X = a_{21}X_1+a_{22}X_2+\\dots+a_{2p}X_p$$\n",
    "$$\\vdots$$\n",
    "$$Y_p=a_p^{'}X = a_{p1}X_1+a_{p2}X_2+\\dots+a_{pp}X_p$$\n",
    "我们得到\n",
    "$$Var(Y_1)=a^{'}_i\\Sigma a_i  \\qquad i = 1,2,\\dots, p$$\n",
    "$$Cov(Y_1,Y_k)=a^{'}_i\\Sigma a_k  \\qquad i,k = 1,2,\\dots, p$$\n",
    "主成分是那些不线性相关的线性组合$Y_i, Y_1, \\dots, Y_p$，它们能使上式方差尽可能大。\n",
    "设$\\Sigma$是随机向量$X^{'} = X_1, X_2, \\dots, X_p$的协方差矩阵，它有特征值和特征向量对$(\\lambda_1, e_1),(\\lambda_2, e_2),\\dots,(\\lambda_p, e_p)$,其中$\\lambda_1 \\geq \\lambda_2 \\geq \\dots \\geq \\lambda_p \\geq 0$，则第i个主成分由\n",
    "$$Y_i=e_{i}^{'}X=e_{i1}X_1+e_{i2}X_2+\\dots+e_{ip}X_p, \\qquad i=1,2, \\dots, p$$\n",
    "此时$$Var(Y_i)=e^{'}_i\\Sigma e_i = \\lambda_i \\qquad i = 1,2,\\dots, p$$\n",
    "$$Cov(Y_i,Y_k)=e^{'}_i\\Sigma e_k = 0 \\qquad i \\not= k$$\n",
    "\n",
    "\n",
    "如果$Y_1=e_1^{'}X, Y_2=e_2^{'}X, \\dots, Y_p=e_p^{'}X$从协方差矩阵$\\Sigma$所得到的主成分，则$$\\rho_{Y_i,X_k}=\\frac{e_{ik}\\sqrt{\\lambda_i}}{\\sqrt{\\sigma_{kk}}} \\qquad i,k=1,2,\\dots,p$$是成分$Y_i$和变量$X_k$之间的相关系数，此处$(\\lambda_1, e_1),(\\lambda_2, e_2),\\dots,(\\lambda_p, e_p)$是$\\Sigma$的特征值-特征向量对\n",
    "\n",
    "### 从标准化变量得到主成分\n",
    "主成分也可以从标准化变量$$Z_i=\\frac{X_1-\\mu_1}{\\sqrt{\\sigma_{11}}}$$\n",
    "$$Z_2=\\frac{X_2-\\mu_2}{\\sqrt{\\sigma_{22}}}$$\n",
    "$$\\vdots$$\n",
    "$$Z_p=\\frac{X_p-\\mu_p}{\\sqrt{\\sigma_{pp}}}$$\n",
    "采用矩阵记号\n",
    "$$Z=\\left(V^{1/2}\\right)^{-1}(X-\\mu)$$\n",
    "其中E(Z) =0 且$$Cov(Z)=(V^{1/2})^{-1}\\Sigma(V^{1/2})^{-1} = \\rho$$\n",
    "\n",
    "### 有特殊结构的协方差矩阵的主成分\n",
    "存在某些结构的协方差和相关矩阵，它们的主成分能够表示成简单的形式，设$\\Sigma$是对角矩阵\n",
    "$$\\Sigma = \\begin{bmatrix} \\sigma_{11} & 0 & \\dots & 0 \\\\ 0 & \\sigma_{22}  & \\dots & 0  \\\\ \\vdots & \\vdots & \\ddots &\\vdots \\\\ 0 & 0 & \\dots & \\sigma_{pp}\\end{bmatrix}$$\n",
    "令$e_i^{'}=[0,\\dots,0, 1, 0, \\dots, 0]$，第i个位置上为1我们看到\n",
    "$$\\Sigma = \\begin{bmatrix} \\sigma_{11} & 0 & \\dots & 0 \\\\ 0 & \\sigma_{22}  & \\dots & 0  \\\\ \\vdots & \\vdots & \\ddots &\\vdots \\\\ 0 & 0 & \\dots & \\sigma_{pp}\\end{bmatrix} \\begin{bmatrix}  0 \\\\ \\vdots \\\\ 0 \\\\ 1 \\\\ 0 \\\\ \\vdots \\\\ 0 \\end{bmatrix}=\\begin{bmatrix}  0 \\\\ \\vdots \\\\ 0 \\\\ 1\\sigma_{ii} \\\\ 0 \\\\ \\vdots \\\\ 0 \\end{bmatrix} \\qquad 或 \\qquad \\Sigma e_i=\\sigma_{ii}e_i$$ 并得到结论: $(\\sigma_{ii}, e_i)$是第i个特征值-特征向量对\n",
    "\n",
    "\n",
    "另一种模式的协方差矩阵常用于描述诸如生物大小等生态学变量中的对应关系，这种矩阵的一般形式为:\n",
    "$$\\Sigma = \\begin{bmatrix} \\sigma^2 & \\rho\\sigma^2 & \\dots & \\rho\\sigma^2 \\\\ \\rho\\sigma^2 & \\sigma^2  & \\dots & \\rho\\sigma^2  \\\\ \\vdots & \\vdots & \\ddots &\\vdots \\\\ \\rho\\sigma^2 & \\rho\\sigma^2 & \\dots & \\sigma^2\\end{bmatrix}$$\n",
    "得到的相关矩阵为\n",
    "$$\\Sigma = \\begin{bmatrix} 1 & \\rho & \\dots & \\rho \\\\ \\rho & 1  & \\dots & \\rho  \\\\ \\vdots & \\vdots & \\ddots &\\vdots \\\\ \\rho & \\rho & \\dots & 1\\end{bmatrix}$$"
   ]
  },
  {
   "cell_type": "code",
   "execution_count": null,
   "metadata": {},
   "outputs": [],
   "source": []
  }
 ],
 "metadata": {
  "kernelspec": {
   "display_name": "Python 3",
   "language": "python",
   "name": "python3"
  },
  "language_info": {
   "codemirror_mode": {
    "name": "ipython",
    "version": 3
   },
   "file_extension": ".py",
   "mimetype": "text/x-python",
   "name": "python",
   "nbconvert_exporter": "python",
   "pygments_lexer": "ipython3",
   "version": "3.6.8"
  }
 },
 "nbformat": 4,
 "nbformat_minor": 2
}
