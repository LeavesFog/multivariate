{
 "cells": [
  {
   "cell_type": "markdown",
   "metadata": {},
   "source": [
    "# 典型相关分析\n",
    "\n",
    "## 10.1 引言\n",
    "典型相关分析的目的是识别并量化两组变量之间的联系，Hotelling最早开发了这项技术，研究重点是，一组变量的线性组合和另一组变量的线性组合之间相关关系，思路如下：首先求一对线性组合，它有最大相关系数，下一步从与选出对不相关的线性组合配对中，选出有最大相关系数的一对，如此继续下去，选出的线性组合配对成为典型变量，它们之间的相关系数称为典型相关系数。\n",
    "典型相关系数度量了这两组变量之间联系的强度，此项最大化技术是努力将两组变量间一个高维关系浓缩到少数几对典型变量来体现。"
   ]
  },
  {
   "cell_type": "code",
   "execution_count": 9,
   "metadata": {},
   "outputs": [],
   "source": [
    "import numpy as np\n",
    "import pandas as pd\n",
    "from sklearn.cross_decomposition import CCA\n",
    "X = [[0., 0., 1.], [1.,0.,0.], [2.,2.,2.], [3.,5.,4.]]\n",
    "Y = [[0.1, -0.2], [0.9, 1.1], [6.2, 5.9], [11.9, 12.3]]\n",
    "cca = CCA(n_components=1)\n",
    "cca.fit(X, Y)\n",
    "\n",
    "CCA(copy=True, max_iter=500, n_components=1, scale=True, tol=1e-06)\n",
    "X_c, Y_c = cca.transform(X, Y)\n"
   ]
  },
  {
   "cell_type": "code",
   "execution_count": 10,
   "metadata": {},
   "outputs": [
    {
     "data": {
      "text/plain": [
       "array([[-1.3373174 ],\n",
       "       [-1.10847164],\n",
       "       [ 0.40763151],\n",
       "       [ 2.03815753]])"
      ]
     },
     "execution_count": 10,
     "metadata": {},
     "output_type": "execute_result"
    }
   ],
   "source": [
    "X_c"
   ]
  },
  {
   "cell_type": "code",
   "execution_count": 11,
   "metadata": {},
   "outputs": [
    {
     "data": {
      "text/plain": [
       "array([[-0.85511537],\n",
       "       [-0.70878547],\n",
       "       [ 0.26065014],\n",
       "       [ 1.3032507 ]])"
      ]
     },
     "execution_count": 11,
     "metadata": {},
     "output_type": "execute_result"
    }
   ],
   "source": [
    "Y_c"
   ]
  },
  {
   "cell_type": "code",
   "execution_count": 12,
   "metadata": {},
   "outputs": [],
   "source": [
    "import sklearn"
   ]
  },
  {
   "cell_type": "markdown",
   "metadata": {},
   "source": [
    "## 10.2 典型变量和典型相关系数\n",
    "我们关心的是两组变量之间联系的度量，用$(p \\times 1)$随即向量$X^{(1)}$代表第一组的p个变量，$q \\times 1$随机向量$X^(2)$代表第二组的q个变量。在理论研究中，我们假设$X^{(1)}$是较小的组，即$p \\leq q$。\n",
    "\n",
    "对于随机变量$X^{(1)}，X^{(1)}$令\n",
    "$$E(X^{(1)})=\\mu^{(1)}; \\qquad Cov(X^{(1)})=\\Sigma_{11}$$\n",
    "$$E(X^{(2)})=\\mu^{(2)}; \\qquad Cov(X^{(2)})=\\Sigma_{22}$$\n",
    "$$Cov(X^{(1)},X^{(2)}) = \\Sigma_{21} = \\Sigma_{21}^{'}$$\n",
    "\n",
    "把$X^{(1)}，X^{(1)}$联合起来考虑是方便的，则向量如下\n",
    "$$\\mathop{X}_{((p + q)\\times 1)}  = \\begin{bmatrix} X^{(1)} \\\\ X^{(2)} \\end{bmatrix} = \\begin{bmatrix}X^{(1)}_{1} \\\\ X^{(1)}_{2} \\\\ \\vdots \\\\ X^{(1)}_{p} \\\\ X^{(2)}_{1}\\\\ X^{(2)}_{2}\\\\ \\vdots \\\\ X^{(2)}_{q}\\end{bmatrix} \\tag 2$$\n",
    "有均值向量\n",
    "$$ \\mathop{\\mu}_{((p + q)\\times 1)} = E(X) = \\begin{bmatrix}E(X^{(1)}) \\\\ E(X^{(2)})\\end{bmatrix} = \\begin{bmatrix} \\mu^{(1)} \\\\ \\mu^{(2)}\\end{bmatrix}$$\n",
    "和协方差矩阵\n",
    "$$\\Sigma_{(p+q)\\times(p+q)} = E(X - \\mu)(X-\\mu)^{'}$$ \n",
    "$$=\\begin{bmatrix} E(X^{(1)} - \\mu^{(1)})(X^{(1)}-\\mu^{(1)})^{'} & E(X^{(1)} - \\mu^{(1)})(X^{(2)}-\\mu^{(2)})^{'} \\\\ E(X^{(2)} - \\mu^{(2)})(X^{(1)}-\\mu^{(1)})^{'} & E(X^{(2)} - \\mu^{(2)})(X^{(2)}-\\mu^{(2)})^{'} \\end{bmatrix} \\tag 3$$\n",
    "$$= \\begin{bmatrix}\\mathop{\\Sigma_{11}}_{(p\\times p)} & \\mathop{\\Sigma_{12}}_{(p\\times q)}  \\\\ \\mathop{\\Sigma_{21}}_{(q\\times p)} & \\mathop{\\Sigma_{22}}_{(q\\times q)}\\end{bmatrix} \\tag 4$$\n",
    "来自不同组(一个来自$X^{(1)}$，一个来自$X^{(2)}$)的变量配对之间的协方差包含于$\\Sigma_{12}$中，或者等价的包含于$\\Sigma_{21}$中，也就是说$\\Sigma_{12}$中的pq个元素度量这两组之间的联系。当p和q较大的时候，整体的解释$\\Sigma_{12}$中的元素基本上是没有希望的，而且，为达到预测和比较的目的，变量的线性组合常常是我们感兴趣的。典型相关分析的主要任务是，用$\\Sigma_{12}$中几个经过仔细挑选的协方差(相关系数)而不是它的全部pq个协方差来综合度量$X^{(1)}$和$X^{(2)}$间的相关关系。\n",
    "\n",
    "线性组合提供了对一组变量简单扼要的度量，对系数向量$\\boldsymbol{a}和\\boldsymbol{b}$的某些配对，设\n",
    "$$U = \\boldsymbol{a}^{'}X^{(1)} \\tag 5$$\n",
    "$$V = \\boldsymbol{b}^{'}X^{(2)}$$\n",
    "利用矩阵变化得到\n",
    "$$Var(U) = \\boldsymbol{a}^{'}Cov(X^{(1)})\\boldsymbol{a} = \\boldsymbol{a}^{'}\\Sigma_{11}\\boldsymbol{a}$$\n",
    "$$Var(V) = \\boldsymbol{b}^{'}Cov(X^{(2)})\\boldsymbol{b} = \\boldsymbol{b}^{'}\\Sigma_{22}\\boldsymbol{b} \\tag 6$$\n",
    "$$Cov(U,V) = \\boldsymbol{a}^{'}Cov(X^{(1)},X^{(2)})\\boldsymbol{b} = \\boldsymbol{a}^{'}\\Sigma_{12}\\boldsymbol{b}$$\n",
    "我们将寻找系数向量$\\boldsymbol{a}$和$\\boldsymbol{b}$，使得\n",
    "$$Corr(U,V)=\\frac{\\boldsymbol{a}^{'}\\Sigma_{12}\\boldsymbol{b}}{\\sqrt{\\boldsymbol{a}^{'}\\Sigma_{11}\\boldsymbol{a}}\\sqrt{\\boldsymbol{b}^{'}\\Sigma_{22}\\boldsymbol{b}}} \\tag 7$$\n",
    "尽可能大。\n",
    "\n",
    "我们做如下定义:<br >\n",
    "**第一对典型变量**，是具有单位方差的线性组合$U_1$和$V_1$的配对，它使对应的相关系数(7)最大化<br >\n",
    "**第二对典型变量**，是具有单位方差的线性组合$U_2$和$V_2$的配对，而在与第一对典型变量不相关的所有配对中，它使对应的相关系数(7)最大化<br >\n",
    "在第k步中:<br >\n",
    "**第K对典型变量**，是具有单位方差的线性组合$U_k$和$V_k$的配对，而在k-1个典型变量配对都对不相关的所有配对中，其相关系数(7)为最大。<br >\n",
    "第k对典型变量之间相关系数称为**第k典型相关系数**<br >\n",
    "**结论10.1** 假设$p\\leq q$，随机向量$X^{(1)}$和$X^{(2)}$有<br >\n",
    "$$Cov(X^{(1)}) = \\mathop{\\Sigma_{11}}_{(p\\times p)}, \\qquad Cov(X^{(2)}) = \\mathop{\\Sigma_{22}}_{(q\\times q)} \\qquad及\\qquad Cov(X^{(1)},X^{(2)}) = \\mathop{\\Sigma_{12}}_{(p\\times q)}$$其中$\\Sigma$是满秩的，对系数向量$\\mathop{\\boldsymbol{a}}_{(p\\times q)} 和 \\mathop{\\boldsymbol{b}}_{(p\\times q)}$,构成线性组合$U = \\boldsymbol{a}^{'}X^{(1)}$和$V = \\boldsymbol{b}^{'}X^{(2)}$，则由线性组合(第一典型变量配对)\n",
    "$$U_1=\\underbrace{\\boldsymbol{e}_1^{'}\\Sigma_{11}^{-1/2}X^{(1)}}_{\\boldsymbol{a}_1^{'}} \\qquad 和 \\qquad V_1=\\underbrace{\\boldsymbol{f}_1^{'}\\Sigma_{22}^{-1/2}X^{(2)}}_{\\boldsymbol{b}_1^{'}}$$\n",
    "达到$$\\max_{\\boldsymbol{a},\\boldsymbol{b}}Corr(U,V)=\\rho_{1}^{*}$$\n",
    "对第k对典型变量,$k=2,3,\\dots,p$，\n",
    "$$U_k=\\boldsymbol{e}_k^{'}\\Sigma_{11}^{-1/2}X^{(1)} \\qquad V_k=\\boldsymbol{f}_k^{'}\\Sigma_{22}^{-1/2}X^{(2)}$$\n",
    "使$$Corr(U_k,V_k)=\\rho_k^{*}$$\n",
    "在那些与前面$1,2,\\dots,k-1$个典型变量无关的线性组合中最大化。<br >\n",
    "这里$\\rho_1^{*2}\\geq \\rho_2^{*2} \\geq \\dots \\geq \\rho_p^{*2}$是$\\Sigma_{11}^{-1/2}\\Sigma_{12}\\Sigma_{22}^{-1}\\Sigma_{21}\\Sigma_{11}^{-1/2}$的特征值，而$\\boldsymbol{e}_1,\\boldsymbol{e}_2,\\dots, \\boldsymbol{e}_p$是相应的$(p\\times 1)$特征向量。<br >\n",
    "典型变量具有性质<br >\n",
    "$$Var(U_k)=Var(V_k) = 1$$\n",
    "$$Cov(U_k,V_l) = Corr(U_k,U_l)=0 \\quad k \\neq l$$"
   ]
  },
  {
   "cell_type": "markdown",
   "metadata": {},
   "source": [
    "### 标准化变换\n",
    "如果把原来的变量用$Z^{(1)}=[Z_1^{(1)},Z_2^{(1)},\\dots,Z_p^{(1)}]^{'}$和$Z^{(2)}=[Z_1^{(2)},Z_2^{(2)},\\dots,Z_p^{(2)}]^{'}$来标准化，典型变量具有如下形式\n",
    "$$U_k=\\boldsymbol{a}_k^{'}Z^{(1)} = \\boldsymbol{e}_k^{'}\\boldsymbol{\\rho}_{11}^{-1/2}Z^{(1)}$$\n",
    "$$V_k=\\boldsymbol{b}_k^{'}Z^{(2)} = \\boldsymbol{f}_k^{'}\\boldsymbol{\\rho}_{22}^{-1/2}Z^{(2)} \\tag 8$$\n",
    "这里$Cov(Z^{(1)})=\\rho_{11}$,$Cov(Z^{(2)})=\\rho_{22}$,$Cov(Z^{(1)},Z^{(2)})=\\rho_{12}=\\rho_{21}^{'}$\n",
    "$\\boldsymbol{e}_k及\\boldsymbol{f}_k$ 分别为$\\boldsymbol{\\rho}_{11}^{-1/2}\\boldsymbol{\\rho}_{12}\\boldsymbol{\\rho}_{22}^{-1}\\boldsymbol{\\rho}_{21}\\boldsymbol{\\rho}_{11}^{-1/2}$及$\\boldsymbol{\\rho}_{22}^{-1/2}\\boldsymbol{\\rho}_{21}\\boldsymbol{\\rho}_{11}^{-1}\\boldsymbol{\\rho}_{12}\\boldsymbol{\\rho}_{22}^{-1/2}$的特征向量，而典型相关系数$\\rho_k$满足$$Corr(U_k,V_k) = \\rho_k^{*}, \\quad k=1,2,\\dots, p \\tag 9$$\n",
    "其中$\\rho_1^{*2} \\geq \\rho_2^{*2} \\geq \\dots \\geq \\rho_p^{*2}$是矩阵$\\boldsymbol{\\rho}_{11}^{-1/2}\\boldsymbol{\\rho}_{12}\\boldsymbol{\\rho}_{22}^{-1}\\boldsymbol{\\rho}_{21}\\boldsymbol{\\rho}_{11}^{-1/2}$(或等价的，矩阵$\\boldsymbol{\\rho}_{22}^{-1/2}\\boldsymbol{\\rho}_{21}\\boldsymbol{\\rho}_{11}^{-1}\\boldsymbol{\\rho}_{12}\\boldsymbol{\\rho}_{22}^{-1/2}$)的非零特征向量值。"
   ]
  },
  {
   "cell_type": "code",
   "execution_count": 20,
   "metadata": {},
   "outputs": [],
   "source": [
    "# 计算标准化变量的典型变量和典型相关系数\n",
    "p_11 = np.matrix([[1.0,0.4],[0.4, 1.0]])\n",
    "p_12 = np.matrix([[0.5, 0.6], [0.3, 0.4]])\n",
    "p_21 = p_12.T\n",
    "p_22 = np.matrix([[1.0, 0.2],[0.2, 1.0]])"
   ]
  },
  {
   "cell_type": "code",
   "execution_count": 27,
   "metadata": {},
   "outputs": [],
   "source": [
    "Z = np.hstack((np.vstack((p_11, p_21)),np.vstack((p_12,p_22))))"
   ]
  },
  {
   "cell_type": "code",
   "execution_count": 33,
   "metadata": {},
   "outputs": [],
   "source": [
    "p_111 = np.linalg.inv(np.sqrt(p_11))"
   ]
  },
  {
   "cell_type": "code",
   "execution_count": 34,
   "metadata": {},
   "outputs": [],
   "source": [
    "p_222 = np.linalg.inv(p_22)"
   ]
  },
  {
   "cell_type": "code",
   "execution_count": 36,
   "metadata": {},
   "outputs": [],
   "source": [
    "p = p_111.dot(p_12).dot(p_222).dot(p_21).dot(p_111)"
   ]
  },
  {
   "cell_type": "code",
   "execution_count": 37,
   "metadata": {},
   "outputs": [
    {
     "data": {
      "text/plain": [
       "(array([0.50242975, 0.00230362]), matrix([[ 0.99993695, -0.01122919],\n",
       "         [ 0.01122919,  0.99993695]]))"
      ]
     },
     "execution_count": 37,
     "metadata": {},
     "output_type": "execute_result"
    }
   ],
   "source": [
    "np.linalg.eig(p)"
   ]
  },
  {
   "cell_type": "markdown",
   "metadata": {},
   "source": [
    "### 10.3 总体典型变量的解释\n",
    "一般来说，典型变量是人为定义的，就是说，它们没有实际意义，如果使用原始变量$X^{(1)}$和$X^{(2)}$，那么典型系数$\\boldsymbol{a},\\boldsymbol{b}$的单位与$X^{(1)}$和$X^{(2)}$的两组的单位成比例。如果原始变量被标准化，有零向量和单位向量，典型系数就没有测量值单位，而且它们必须要用标准化变量来阐述。<br >\n",
    "\n",
    "#### 确认典型变量\n",
    "#### 典型相关系数作为其他相关系数的推广\n",
    "#### 前r个典型变量作为可变性的综合\n",
    "#### 典型变量相关分析的几何解释"
   ]
  },
  {
   "cell_type": "markdown",
   "metadata": {},
   "source": [
    "## 10.4 样本典型变量和样本典型相关系数"
   ]
  },
  {
   "cell_type": "markdown",
   "metadata": {},
   "source": [
    "## 10.5其他样本描述性度量\n",
    "#### 渐进误差矩阵\n",
    "#### 被解释的样本方差的比例"
   ]
  },
  {
   "cell_type": "markdown",
   "metadata": {},
   "source": [
    "## 10.6 大样本推断\n"
   ]
  },
  {
   "cell_type": "code",
   "execution_count": null,
   "metadata": {},
   "outputs": [],
   "source": []
  }
 ],
 "metadata": {
  "kernelspec": {
   "display_name": "Python 3",
   "language": "python",
   "name": "python3"
  },
  "language_info": {
   "codemirror_mode": {
    "name": "ipython",
    "version": 3
   },
   "file_extension": ".py",
   "mimetype": "text/x-python",
   "name": "python",
   "nbconvert_exporter": "python",
   "pygments_lexer": "ipython3",
   "version": "3.6.8"
  }
 },
 "nbformat": 4,
 "nbformat_minor": 2
}
