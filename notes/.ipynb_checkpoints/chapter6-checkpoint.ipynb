{
 "cells": [
  {
   "cell_type": "markdown",
   "metadata": {},
   "source": [
    "# 多个多元均值向量的比较\n",
    "## 6.1 引言\n",
    "第五章介绍的方法可以推广到处理多个均值向量的比较问题。多元向量比较重有几个方法可以使用：重复测量、生长曲线。\n",
    "\n",
    "* 多元方差分析(MANOVA) multivariate analysis of variance总方差的分解问题*\n",
    "\n",
    "## 6.2 成对比较和重复测量设计\n",
    "对于给定$$D_{j1} = X_{1j1}-X_{2j1}$$\n",
    "$$D_{j2} = X_{1j2}-X_{2j2}$$\n",
    "$$\\vdots$$\n",
    "$$D_{jp} = X_{1jp}-X_{2jp}$$\n",
    "中随机变量的观测值之差$d_j^{'}=[d_{j1},d_{j2},\\dots,d_{jp}], j=1,2,\\dots,n$对总体$N_p(\\delta,\\Sigma_d)$,若$T^2=n\\overline{d}^{'}S_d^{-1}\\overline{d} > \\frac{(n-1)p}{(n-p)}F_{p, n-p}(\\alpha)$ \n",
    "在水平$\\alpha$下，拒绝$H_0:\\delta=0$而接受$H_1:\\delta\\not=0$,其中$F_{p,n-p}(\\alpha)$为自由度为p与n-p的F分布上$100\\alpha$百分位数，而$\\overline{d}$与$S_{d}$由下式给出\n",
    "\n",
    "$\\delta$的$100(1-\\alpha)\\%$置信域由所有满足$$(\\overline{d}-\\delta)^{'}S_{d}^{-1}(\\overline{d}-\\delta) \\leq \\frac{(n-1)p}{n(n-p)}F_{p,n-p}(\\alpha)$$的$\\delta$组成\n",
    "\n",
    "此外个别均值差$\\delta_i$的$100(1-\\alpha)\\%$的联合置信区间为:\n",
    "$$\\delta_i:\\overline{d}_i \\pm \\sqrt{\\frac{(n-1)p}{(n-p)}F_{p,n-p}(\\alpha)}\\sqrt{\\frac{s_d^2}{n}}$$\n",
    "此处$\\overline{d}_i$为$\\overline{d}$的第i个分量，$s_d^2$为$S_d$的第i个对角元。\n",
    "\n",
    "当n-p充分大时，$[(n-1)p/(n-p)]F_{p,n-p}(\\alpha)=\\chi_p^2(\\alpha)$,因此不需要正态性假定\n",
    "单一均值差的$100(1-\\alpha)\\%$的庞弗洛尼联合置信区间为$$\\delta_i:\\overline{d}_i \\pm t_{n-1}\\left(\\frac{\\alpha}{2p}\\right)\\sqrt{\\frac{s_d^2}{n}}$$\n",
    "其中$t_{n-1}(\\alpha/2p)$为自由度为n-1的t分布上的$100(\\alpha/2p)$百分位数"
   ]
  },
  {
   "cell_type": "code",
   "execution_count": null,
   "metadata": {},
   "outputs": [],
   "source": []
  }
 ],
 "metadata": {
  "kernelspec": {
   "display_name": "Python 3",
   "language": "python",
   "name": "python3"
  },
  "language_info": {
   "codemirror_mode": {
    "name": "ipython",
    "version": 3
   },
   "file_extension": ".py",
   "mimetype": "text/x-python",
   "name": "python",
   "nbconvert_exporter": "python",
   "pygments_lexer": "ipython3",
   "version": "3.6.8"
  }
 },
 "nbformat": 4,
 "nbformat_minor": 2
}
