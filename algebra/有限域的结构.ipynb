{
 "cells": [
  {
   "cell_type": "markdown",
   "metadata": {},
   "source": [
    "本节我们将证明有限域的三条结构定理，它们是\n",
    "\n",
    "**定理1** 设$F$是有限域并设$F$的特征是$p$，那么$F$的元素个数一定是$p$的一个幂\n",
    "\n",
    "**定理2** 设$p$是任意一个素数而n是任意一正整数，那么总存在一个恰含$q^n$个元素的有限域\n",
    "\n",
    "**定理3** 任意两个元素个数相同的有限域一定同构"
   ]
  },
  {
   "cell_type": "markdown",
   "metadata": {},
   "source": [
    "## 5.1 定理1 证明\n",
    "\n",
    "我们先来证明定理1的一个推广，它包含有定理1作为特例\n",
    "\n",
    "**定理4** 设$F$是个有限域，它包含有一个$q$个元素的有限域$F_q$作为子域，那么$F$的元素个数一定是$q$的幂\n",
    "\n",
    "**证明** 将$F_q$改记成$F_1$，如果$F=F_1$，那么$F$就是恰含$q$个元素的有限域，因此这时定理4成立，如果$F\\neq F_1$，那么$F$就还有一个元素$e_2$，而$e_2\\not\\in F_1$，令$$F_2=\\{a_1 + a_2e_2\\|a_1,a_2 \\in F_1\\}$$。我们证明：如果$$a_1+a_2e_2=b_1+b_2e_2, \\quad a_1,a_2,b_1,b_2 \\in F_1$$那么一定有$a_1=_b1,a_2=b_2$,实际上，从上式推出$$(a_2-b_2)e_2=b_1-a_1$$\n",
    "如果$a_2 \\not \\in b_2$,那么$$e_2=(a_2-b_2)^{-1}(b_1-a_1) \\in F_1$$\n",
    "这是一个矛盾，因此一定有$a_2=b_2$，于是也有$a_1=b_1$，因此可以推出$F_2$恰含$q^2$个两两不同的元素。\n",
    "\n",
    "如果$F=F_2$，那么$F$就是恰含$q^2$个元素的有限域，因此这时定理4成立，如果$F\\neq F_2$，那么$F$就还有一个元素$e_3$，而$e_3\\not\\in F_2$，令$$F_3=\\{a_1 + a_2e_2+a_3e_3\\|a_1,a_2,a_3 \\in F_1\\}$$。假定有$$a_1+a_2e_2+a_3e_3=b_1+b_2e_2+b_3e_3, \\quad a_i,b_i\\in F_1$$那么一定有$a_1=_b1,a_2=b_2, a_3=b_3$,实际上，从上式推出$$(a_3-b_3)e_3=(b_1-a_1)+(b_2-a_2)e_2$$\n",
    "如果$a_3 \\neq b_3$,那么$$e_3=(a_3-b_3)^{-1}(b_1-a_1)+(a_3-b_3)^{-1}(b_2-a_2)e_2 \\in F_2$$\n",
    "这是一个矛盾，因此一定有$a_3=b_3$，于是也有$a_1+a_2e_2=b_1+b_2e_2$，再根据上一段的证明可知$a_1=b_1,a_2=b_2$,于是可以推出$F_3$恰含$q^3$个两两不同的元素。\n",
    "\n",
    "如果$F=F_3$，那么$F$就是恰含$q^3$个元素的有限域，因此这时定理4成立，如果$F\\neq F_3$，那么$F$就还有一个元素$e_4$，而$e_4\\not\\in F_3$，令$$F_4=\\{a_1 + a_2e_2+a_3e_3+a_4e_4\\|a_1,a_2,a_3,a_4 \\in F_1\\}$$。仿上可证$F_4$恰含$q^4$个两两不同的元素。\n",
    "\n",
    "如此进行嫁娶如果$F$的元素个数是$N$，而$q^n\\leq N < q^{n+1}$那么我们得到F的一串子集$$F_1,F_2,F_3,\\dots,F_n$$\n",
    "其中$$F_i={a_1+a_2e_2+\\dots+a_ie_i\\|a_1,a_2,\\dots,a_i \\in F_1}$$而$$e_2\\not\\in F_1, e_3\\not\\in F_2, \\dots, e_n\\not\\in F_{n-1}$$\n",
    "同时$F_i(i\\leq i \\leq n)$恰有$q^i$个两两不同的元素，如果$F\\neq F_n$，那么$F$就含有一个元素$e_{n+1},e_{n+1}\\not\\in F_n$，令\n",
    "$$F_{n+1}={a_1+a_2e_2+\\dots+a_ne_n+a_{n+1}e_{n+1}\\|a_1,a_2, \\dots, a_n,a_{n+1}\\in F_1}$$\n",
    "仿上可证$F_{n+1}$恰含$q^{n+1}$个两两不同的元素，但$F_{n+1}$是$F$的子集，而$F$的元素个数$N<q^{n+1}$所以这是不能能的，因此一定有$F=F_n$，于是F是恰含$q^n$个元素的有限域，这就证明了定理4。\n",
    "\n",
    "从定理4立刻推导出定理1，设$F$是有限域，并设$F$的特征是$p$,那么$p$一定是一个素数，而$F$的素域$\\it{\\Pi}$就是恰含$p$个元素的有限域，在定理4中取$F_q=\\it{\\Pi}$就得出定理1"
   ]
  },
  {
   "cell_type": "code",
   "execution_count": null,
   "metadata": {},
   "outputs": [],
   "source": []
  },
  {
   "cell_type": "code",
   "execution_count": null,
   "metadata": {},
   "outputs": [],
   "source": []
  },
  {
   "cell_type": "code",
   "execution_count": null,
   "metadata": {},
   "outputs": [],
   "source": []
  },
  {
   "cell_type": "code",
   "execution_count": null,
   "metadata": {},
   "outputs": [],
   "source": []
  },
  {
   "cell_type": "code",
   "execution_count": null,
   "metadata": {},
   "outputs": [],
   "source": []
  },
  {
   "cell_type": "code",
   "execution_count": null,
   "metadata": {},
   "outputs": [],
   "source": []
  },
  {
   "cell_type": "code",
   "execution_count": null,
   "metadata": {},
   "outputs": [],
   "source": []
  }
 ],
 "metadata": {
  "kernelspec": {
   "display_name": "Python 3",
   "language": "python",
   "name": "python3"
  },
  "language_info": {
   "codemirror_mode": {
    "name": "ipython",
    "version": 3
   },
   "file_extension": ".py",
   "mimetype": "text/x-python",
   "name": "python",
   "nbconvert_exporter": "python",
   "pygments_lexer": "ipython3",
   "version": "3.6.8"
  }
 },
 "nbformat": 4,
 "nbformat_minor": 2
}
