{
 "cells": [
  {
   "cell_type": "markdown",
   "metadata": {},
   "source": [
    "本节我们将证明有限域的三条结构定理，它们是\n",
    "\n",
    "**定理1** 设$F$是有限域并设$F$的特征是$p$，那么$F$的元素个数一定是$p$的一个幂\n",
    "\n",
    "**定理2** 设$p$是任意一个素数而n是任意一正整数，那么总存在一个恰含$q^n$个元素的有限域\n",
    "\n",
    "**定理3** 任意两个元素个数相同的有限域一定同构"
   ]
  },
  {
   "cell_type": "markdown",
   "metadata": {},
   "source": [
    "## 5.1 定理1 证明\n",
    "\n",
    "我们先来证明定理1的一个推广，它包含有定理1作为特例\n",
    "\n",
    "**定理4** 设$F$是个有限域，它包含有一个$q$个元素的有限域$F_q$作为子域，那么$F$的元素个数一定是$q$的幂\n",
    "\n",
    "**证明** 将$F_q$改记成$F_1$"
   ]
  },
  {
   "cell_type": "code",
   "execution_count": null,
   "metadata": {},
   "outputs": [],
   "source": []
  },
  {
   "cell_type": "code",
   "execution_count": null,
   "metadata": {},
   "outputs": [],
   "source": []
  },
  {
   "cell_type": "code",
   "execution_count": null,
   "metadata": {},
   "outputs": [],
   "source": []
  },
  {
   "cell_type": "code",
   "execution_count": null,
   "metadata": {},
   "outputs": [],
   "source": []
  },
  {
   "cell_type": "code",
   "execution_count": null,
   "metadata": {},
   "outputs": [],
   "source": []
  },
  {
   "cell_type": "code",
   "execution_count": null,
   "metadata": {},
   "outputs": [],
   "source": []
  },
  {
   "cell_type": "code",
   "execution_count": null,
   "metadata": {},
   "outputs": [],
   "source": []
  }
 ],
 "metadata": {
  "kernelspec": {
   "display_name": "Python 3",
   "language": "python",
   "name": "python3"
  },
  "language_info": {
   "codemirror_mode": {
    "name": "ipython",
    "version": 3
   },
   "file_extension": ".py",
   "mimetype": "text/x-python",
   "name": "python",
   "nbconvert_exporter": "python",
   "pygments_lexer": "ipython3",
   "version": "3.6.8"
  }
 },
 "nbformat": 4,
 "nbformat_minor": 2
}
